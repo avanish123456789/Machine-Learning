{
  "cells": [
    {
      "cell_type": "code",
      "execution_count": null,
      "id": "9f8175a4",
      "metadata": {
        "colab": {
          "base_uri": "https://localhost:8080/"
        },
        "id": "9f8175a4",
        "outputId": "89d1d5b7-c264-49c2-873d-2575b6d10887"
      },
      "outputs": [
        {
          "output_type": "stream",
          "name": "stdout",
          "text": [
            "Collecting stemgraphic\n",
            "  Downloading stemgraphic-0.9.1-py3-none-any.whl (61 kB)\n",
            "\u001b[2K     \u001b[90m━━━━━━━━━━━━━━━━━━━━━━━━━━━━━━━━━━━━━━━━\u001b[0m \u001b[32m61.9/61.9 kB\u001b[0m \u001b[31m2.2 MB/s\u001b[0m eta \u001b[36m0:00:00\u001b[0m\n",
            "\u001b[?25hCollecting docopt (from stemgraphic)\n",
            "  Downloading docopt-0.6.2.tar.gz (25 kB)\n",
            "  Preparing metadata (setup.py) ... \u001b[?25l\u001b[?25hdone\n",
            "Requirement already satisfied: matplotlib in /usr/local/lib/python3.10/dist-packages (from stemgraphic) (3.7.1)\n",
            "Requirement already satisfied: pandas in /usr/local/lib/python3.10/dist-packages (from stemgraphic) (1.5.3)\n",
            "Requirement already satisfied: seaborn in /usr/local/lib/python3.10/dist-packages (from stemgraphic) (0.12.2)\n",
            "Requirement already satisfied: contourpy>=1.0.1 in /usr/local/lib/python3.10/dist-packages (from matplotlib->stemgraphic) (1.1.0)\n",
            "Requirement already satisfied: cycler>=0.10 in /usr/local/lib/python3.10/dist-packages (from matplotlib->stemgraphic) (0.11.0)\n",
            "Requirement already satisfied: fonttools>=4.22.0 in /usr/local/lib/python3.10/dist-packages (from matplotlib->stemgraphic) (4.40.0)\n",
            "Requirement already satisfied: kiwisolver>=1.0.1 in /usr/local/lib/python3.10/dist-packages (from matplotlib->stemgraphic) (1.4.4)\n",
            "Requirement already satisfied: numpy>=1.20 in /usr/local/lib/python3.10/dist-packages (from matplotlib->stemgraphic) (1.22.4)\n",
            "Requirement already satisfied: packaging>=20.0 in /usr/local/lib/python3.10/dist-packages (from matplotlib->stemgraphic) (23.1)\n",
            "Requirement already satisfied: pillow>=6.2.0 in /usr/local/lib/python3.10/dist-packages (from matplotlib->stemgraphic) (8.4.0)\n",
            "Requirement already satisfied: pyparsing>=2.3.1 in /usr/local/lib/python3.10/dist-packages (from matplotlib->stemgraphic) (3.1.0)\n",
            "Requirement already satisfied: python-dateutil>=2.7 in /usr/local/lib/python3.10/dist-packages (from matplotlib->stemgraphic) (2.8.2)\n",
            "Requirement already satisfied: pytz>=2020.1 in /usr/local/lib/python3.10/dist-packages (from pandas->stemgraphic) (2022.7.1)\n",
            "Requirement already satisfied: six>=1.5 in /usr/local/lib/python3.10/dist-packages (from python-dateutil>=2.7->matplotlib->stemgraphic) (1.16.0)\n",
            "Building wheels for collected packages: docopt\n",
            "  Building wheel for docopt (setup.py) ... \u001b[?25l\u001b[?25hdone\n",
            "  Created wheel for docopt: filename=docopt-0.6.2-py2.py3-none-any.whl size=13707 sha256=eb238e1bd49f6b900935bccb5eb83664c732a153553ba9187827c6e1e12846ff\n",
            "  Stored in directory: /root/.cache/pip/wheels/fc/ab/d4/5da2067ac95b36618c629a5f93f809425700506f72c9732fac\n",
            "Successfully built docopt\n",
            "Installing collected packages: docopt, stemgraphic\n",
            "Successfully installed docopt-0.6.2 stemgraphic-0.9.1\n"
          ]
        }
      ],
      "source": [
        "import pandas as pd\n",
        "import numpy as np\n",
        "import seaborn as sns\n",
        "import matplotlib.pyplot as plt\n",
        "!pip install stemgraphic\n",
        "import stemgraphic"
      ]
    },
    {
      "cell_type": "code",
      "execution_count": null,
      "id": "1f113eb3",
      "metadata": {
        "id": "1f113eb3",
        "colab": {
          "base_uri": "https://localhost:8080/",
          "height": 311
        },
        "outputId": "099403e1-9f9d-4da6-e2fa-eca361c1d50b"
      },
      "outputs": [
        {
          "output_type": "error",
          "ename": "FileNotFoundError",
          "evalue": "ignored",
          "traceback": [
            "\u001b[0;31m---------------------------------------------------------------------------\u001b[0m",
            "\u001b[0;31mFileNotFoundError\u001b[0m                         Traceback (most recent call last)",
            "\u001b[0;32m<ipython-input-3-06220d75f9c5>\u001b[0m in \u001b[0;36m<cell line: 1>\u001b[0;34m()\u001b[0m\n\u001b[0;32m----> 1\u001b[0;31m \u001b[0mdf\u001b[0m \u001b[0;34m=\u001b[0m \u001b[0mpd\u001b[0m\u001b[0;34m.\u001b[0m\u001b[0mread_csv\u001b[0m\u001b[0;34m(\u001b[0m\u001b[0;34mr'/content/Tanmay_22M1850_data.csv'\u001b[0m\u001b[0;34m)\u001b[0m\u001b[0;34m\u001b[0m\u001b[0;34m\u001b[0m\u001b[0m\n\u001b[0m",
            "\u001b[0;32m/usr/local/lib/python3.10/dist-packages/pandas/util/_decorators.py\u001b[0m in \u001b[0;36mwrapper\u001b[0;34m(*args, **kwargs)\u001b[0m\n\u001b[1;32m    209\u001b[0m                 \u001b[0;32melse\u001b[0m\u001b[0;34m:\u001b[0m\u001b[0;34m\u001b[0m\u001b[0;34m\u001b[0m\u001b[0m\n\u001b[1;32m    210\u001b[0m                     \u001b[0mkwargs\u001b[0m\u001b[0;34m[\u001b[0m\u001b[0mnew_arg_name\u001b[0m\u001b[0;34m]\u001b[0m \u001b[0;34m=\u001b[0m \u001b[0mnew_arg_value\u001b[0m\u001b[0;34m\u001b[0m\u001b[0;34m\u001b[0m\u001b[0m\n\u001b[0;32m--> 211\u001b[0;31m             \u001b[0;32mreturn\u001b[0m \u001b[0mfunc\u001b[0m\u001b[0;34m(\u001b[0m\u001b[0;34m*\u001b[0m\u001b[0margs\u001b[0m\u001b[0;34m,\u001b[0m \u001b[0;34m**\u001b[0m\u001b[0mkwargs\u001b[0m\u001b[0;34m)\u001b[0m\u001b[0;34m\u001b[0m\u001b[0;34m\u001b[0m\u001b[0m\n\u001b[0m\u001b[1;32m    212\u001b[0m \u001b[0;34m\u001b[0m\u001b[0m\n\u001b[1;32m    213\u001b[0m         \u001b[0;32mreturn\u001b[0m \u001b[0mcast\u001b[0m\u001b[0;34m(\u001b[0m\u001b[0mF\u001b[0m\u001b[0;34m,\u001b[0m \u001b[0mwrapper\u001b[0m\u001b[0;34m)\u001b[0m\u001b[0;34m\u001b[0m\u001b[0;34m\u001b[0m\u001b[0m\n",
            "\u001b[0;32m/usr/local/lib/python3.10/dist-packages/pandas/util/_decorators.py\u001b[0m in \u001b[0;36mwrapper\u001b[0;34m(*args, **kwargs)\u001b[0m\n\u001b[1;32m    329\u001b[0m                     \u001b[0mstacklevel\u001b[0m\u001b[0;34m=\u001b[0m\u001b[0mfind_stack_level\u001b[0m\u001b[0;34m(\u001b[0m\u001b[0;34m)\u001b[0m\u001b[0;34m,\u001b[0m\u001b[0;34m\u001b[0m\u001b[0;34m\u001b[0m\u001b[0m\n\u001b[1;32m    330\u001b[0m                 )\n\u001b[0;32m--> 331\u001b[0;31m             \u001b[0;32mreturn\u001b[0m \u001b[0mfunc\u001b[0m\u001b[0;34m(\u001b[0m\u001b[0;34m*\u001b[0m\u001b[0margs\u001b[0m\u001b[0;34m,\u001b[0m \u001b[0;34m**\u001b[0m\u001b[0mkwargs\u001b[0m\u001b[0;34m)\u001b[0m\u001b[0;34m\u001b[0m\u001b[0;34m\u001b[0m\u001b[0m\n\u001b[0m\u001b[1;32m    332\u001b[0m \u001b[0;34m\u001b[0m\u001b[0m\n\u001b[1;32m    333\u001b[0m         \u001b[0;31m# error: \"Callable[[VarArg(Any), KwArg(Any)], Any]\" has no\u001b[0m\u001b[0;34m\u001b[0m\u001b[0;34m\u001b[0m\u001b[0m\n",
            "\u001b[0;32m/usr/local/lib/python3.10/dist-packages/pandas/io/parsers/readers.py\u001b[0m in \u001b[0;36mread_csv\u001b[0;34m(filepath_or_buffer, sep, delimiter, header, names, index_col, usecols, squeeze, prefix, mangle_dupe_cols, dtype, engine, converters, true_values, false_values, skipinitialspace, skiprows, skipfooter, nrows, na_values, keep_default_na, na_filter, verbose, skip_blank_lines, parse_dates, infer_datetime_format, keep_date_col, date_parser, dayfirst, cache_dates, iterator, chunksize, compression, thousands, decimal, lineterminator, quotechar, quoting, doublequote, escapechar, comment, encoding, encoding_errors, dialect, error_bad_lines, warn_bad_lines, on_bad_lines, delim_whitespace, low_memory, memory_map, float_precision, storage_options)\u001b[0m\n\u001b[1;32m    948\u001b[0m     \u001b[0mkwds\u001b[0m\u001b[0;34m.\u001b[0m\u001b[0mupdate\u001b[0m\u001b[0;34m(\u001b[0m\u001b[0mkwds_defaults\u001b[0m\u001b[0;34m)\u001b[0m\u001b[0;34m\u001b[0m\u001b[0;34m\u001b[0m\u001b[0m\n\u001b[1;32m    949\u001b[0m \u001b[0;34m\u001b[0m\u001b[0m\n\u001b[0;32m--> 950\u001b[0;31m     \u001b[0;32mreturn\u001b[0m \u001b[0m_read\u001b[0m\u001b[0;34m(\u001b[0m\u001b[0mfilepath_or_buffer\u001b[0m\u001b[0;34m,\u001b[0m \u001b[0mkwds\u001b[0m\u001b[0;34m)\u001b[0m\u001b[0;34m\u001b[0m\u001b[0;34m\u001b[0m\u001b[0m\n\u001b[0m\u001b[1;32m    951\u001b[0m \u001b[0;34m\u001b[0m\u001b[0m\n\u001b[1;32m    952\u001b[0m \u001b[0;34m\u001b[0m\u001b[0m\n",
            "\u001b[0;32m/usr/local/lib/python3.10/dist-packages/pandas/io/parsers/readers.py\u001b[0m in \u001b[0;36m_read\u001b[0;34m(filepath_or_buffer, kwds)\u001b[0m\n\u001b[1;32m    603\u001b[0m \u001b[0;34m\u001b[0m\u001b[0m\n\u001b[1;32m    604\u001b[0m     \u001b[0;31m# Create the parser.\u001b[0m\u001b[0;34m\u001b[0m\u001b[0;34m\u001b[0m\u001b[0m\n\u001b[0;32m--> 605\u001b[0;31m     \u001b[0mparser\u001b[0m \u001b[0;34m=\u001b[0m \u001b[0mTextFileReader\u001b[0m\u001b[0;34m(\u001b[0m\u001b[0mfilepath_or_buffer\u001b[0m\u001b[0;34m,\u001b[0m \u001b[0;34m**\u001b[0m\u001b[0mkwds\u001b[0m\u001b[0;34m)\u001b[0m\u001b[0;34m\u001b[0m\u001b[0;34m\u001b[0m\u001b[0m\n\u001b[0m\u001b[1;32m    606\u001b[0m \u001b[0;34m\u001b[0m\u001b[0m\n\u001b[1;32m    607\u001b[0m     \u001b[0;32mif\u001b[0m \u001b[0mchunksize\u001b[0m \u001b[0;32mor\u001b[0m \u001b[0miterator\u001b[0m\u001b[0;34m:\u001b[0m\u001b[0;34m\u001b[0m\u001b[0;34m\u001b[0m\u001b[0m\n",
            "\u001b[0;32m/usr/local/lib/python3.10/dist-packages/pandas/io/parsers/readers.py\u001b[0m in \u001b[0;36m__init__\u001b[0;34m(self, f, engine, **kwds)\u001b[0m\n\u001b[1;32m   1440\u001b[0m \u001b[0;34m\u001b[0m\u001b[0m\n\u001b[1;32m   1441\u001b[0m         \u001b[0mself\u001b[0m\u001b[0;34m.\u001b[0m\u001b[0mhandles\u001b[0m\u001b[0;34m:\u001b[0m \u001b[0mIOHandles\u001b[0m \u001b[0;34m|\u001b[0m \u001b[0;32mNone\u001b[0m \u001b[0;34m=\u001b[0m \u001b[0;32mNone\u001b[0m\u001b[0;34m\u001b[0m\u001b[0;34m\u001b[0m\u001b[0m\n\u001b[0;32m-> 1442\u001b[0;31m         \u001b[0mself\u001b[0m\u001b[0;34m.\u001b[0m\u001b[0m_engine\u001b[0m \u001b[0;34m=\u001b[0m \u001b[0mself\u001b[0m\u001b[0;34m.\u001b[0m\u001b[0m_make_engine\u001b[0m\u001b[0;34m(\u001b[0m\u001b[0mf\u001b[0m\u001b[0;34m,\u001b[0m \u001b[0mself\u001b[0m\u001b[0;34m.\u001b[0m\u001b[0mengine\u001b[0m\u001b[0;34m)\u001b[0m\u001b[0;34m\u001b[0m\u001b[0;34m\u001b[0m\u001b[0m\n\u001b[0m\u001b[1;32m   1443\u001b[0m \u001b[0;34m\u001b[0m\u001b[0m\n\u001b[1;32m   1444\u001b[0m     \u001b[0;32mdef\u001b[0m \u001b[0mclose\u001b[0m\u001b[0;34m(\u001b[0m\u001b[0mself\u001b[0m\u001b[0;34m)\u001b[0m \u001b[0;34m->\u001b[0m \u001b[0;32mNone\u001b[0m\u001b[0;34m:\u001b[0m\u001b[0;34m\u001b[0m\u001b[0;34m\u001b[0m\u001b[0m\n",
            "\u001b[0;32m/usr/local/lib/python3.10/dist-packages/pandas/io/parsers/readers.py\u001b[0m in \u001b[0;36m_make_engine\u001b[0;34m(self, f, engine)\u001b[0m\n\u001b[1;32m   1733\u001b[0m                 \u001b[0;32mif\u001b[0m \u001b[0;34m\"b\"\u001b[0m \u001b[0;32mnot\u001b[0m \u001b[0;32min\u001b[0m \u001b[0mmode\u001b[0m\u001b[0;34m:\u001b[0m\u001b[0;34m\u001b[0m\u001b[0;34m\u001b[0m\u001b[0m\n\u001b[1;32m   1734\u001b[0m                     \u001b[0mmode\u001b[0m \u001b[0;34m+=\u001b[0m \u001b[0;34m\"b\"\u001b[0m\u001b[0;34m\u001b[0m\u001b[0;34m\u001b[0m\u001b[0m\n\u001b[0;32m-> 1735\u001b[0;31m             self.handles = get_handle(\n\u001b[0m\u001b[1;32m   1736\u001b[0m                 \u001b[0mf\u001b[0m\u001b[0;34m,\u001b[0m\u001b[0;34m\u001b[0m\u001b[0;34m\u001b[0m\u001b[0m\n\u001b[1;32m   1737\u001b[0m                 \u001b[0mmode\u001b[0m\u001b[0;34m,\u001b[0m\u001b[0;34m\u001b[0m\u001b[0;34m\u001b[0m\u001b[0m\n",
            "\u001b[0;32m/usr/local/lib/python3.10/dist-packages/pandas/io/common.py\u001b[0m in \u001b[0;36mget_handle\u001b[0;34m(path_or_buf, mode, encoding, compression, memory_map, is_text, errors, storage_options)\u001b[0m\n\u001b[1;32m    854\u001b[0m         \u001b[0;32mif\u001b[0m \u001b[0mioargs\u001b[0m\u001b[0;34m.\u001b[0m\u001b[0mencoding\u001b[0m \u001b[0;32mand\u001b[0m \u001b[0;34m\"b\"\u001b[0m \u001b[0;32mnot\u001b[0m \u001b[0;32min\u001b[0m \u001b[0mioargs\u001b[0m\u001b[0;34m.\u001b[0m\u001b[0mmode\u001b[0m\u001b[0;34m:\u001b[0m\u001b[0;34m\u001b[0m\u001b[0;34m\u001b[0m\u001b[0m\n\u001b[1;32m    855\u001b[0m             \u001b[0;31m# Encoding\u001b[0m\u001b[0;34m\u001b[0m\u001b[0;34m\u001b[0m\u001b[0m\n\u001b[0;32m--> 856\u001b[0;31m             handle = open(\n\u001b[0m\u001b[1;32m    857\u001b[0m                 \u001b[0mhandle\u001b[0m\u001b[0;34m,\u001b[0m\u001b[0;34m\u001b[0m\u001b[0;34m\u001b[0m\u001b[0m\n\u001b[1;32m    858\u001b[0m                 \u001b[0mioargs\u001b[0m\u001b[0;34m.\u001b[0m\u001b[0mmode\u001b[0m\u001b[0;34m,\u001b[0m\u001b[0;34m\u001b[0m\u001b[0;34m\u001b[0m\u001b[0m\n",
            "\u001b[0;31mFileNotFoundError\u001b[0m: [Errno 2] No such file or directory: '/content/Tanmay_22M1850_data.csv'"
          ]
        }
      ],
      "source": [
        "df = pd.read_csv(r'/content/Tanmay_22M1850_data.csv')"
      ]
    },
    {
      "cell_type": "code",
      "execution_count": null,
      "id": "80005bda",
      "metadata": {
        "scrolled": true,
        "id": "80005bda"
      },
      "outputs": [],
      "source": [
        "df.head()"
      ]
    },
    {
      "cell_type": "code",
      "execution_count": null,
      "id": "4a90532f",
      "metadata": {
        "id": "4a90532f"
      },
      "outputs": [],
      "source": [
        "df.info()"
      ]
    },
    {
      "cell_type": "code",
      "execution_count": null,
      "id": "7342df26",
      "metadata": {
        "id": "7342df26"
      },
      "outputs": [],
      "source": [
        "df.describe()"
      ]
    },
    {
      "cell_type": "code",
      "execution_count": null,
      "id": "a56a1aa9",
      "metadata": {
        "id": "a56a1aa9"
      },
      "outputs": [],
      "source": [
        "df.isnull().sum()"
      ]
    },
    {
      "cell_type": "markdown",
      "source": [
        "#Exploratory data analysis"
      ],
      "metadata": {
        "id": "xvcXNEp3HWsn"
      },
      "id": "xvcXNEp3HWsn"
    },
    {
      "cell_type": "code",
      "source": [
        "df.keys()"
      ],
      "metadata": {
        "id": "iQdCxO6s2d0f"
      },
      "id": "iQdCxO6s2d0f",
      "execution_count": null,
      "outputs": []
    },
    {
      "cell_type": "code",
      "execution_count": null,
      "id": "a5284628",
      "metadata": {
        "id": "a5284628"
      },
      "outputs": [],
      "source": [
        "parameters = ['Time(s)', 'Extension(mm)', 'Load(N)', 'Compressive extension(mm)',\n",
        "       'Compressive strain (Extension)(mm/mm)', 'Compressive stress(MPa)']"
      ]
    },
    {
      "cell_type": "code",
      "execution_count": null,
      "id": "6df06483",
      "metadata": {
        "id": "6df06483"
      },
      "outputs": [],
      "source": [
        "plt.figure(figsize= (6,5))\n",
        "for i in parameters:\n",
        "    sns.histplot(x= i,data= df)\n",
        "    plt.title(f'histogram of {i}')\n",
        "    plt.figure()"
      ]
    },
    {
      "cell_type": "code",
      "execution_count": null,
      "id": "3542cae4",
      "metadata": {
        "id": "3542cae4"
      },
      "outputs": [],
      "source": [
        "plt.figure(figsize= (8,6))\n",
        "for i in parameters:\n",
        "    plt.figure()\n",
        "    sns.boxplot(y= i,data= df)\n",
        "    plt.title(f'boxplot of {i}')\n",
        "    print('\\n')\n",
        "\n",
        "    print(f'Q1, Q2,Q3,Q4 of {i} are {np.quantile(df[i],[0.25,0.5,0.75,1])}')"
      ]
    },
    {
      "cell_type": "code",
      "execution_count": null,
      "id": "66b5ff09",
      "metadata": {
        "id": "66b5ff09"
      },
      "outputs": [],
      "source": [
        "plt.figure(figsize= (8,6))\n",
        "for i in parameters:\n",
        "    fig,ax = stemgraphic.stem_graphic(df[i],aggregation= False)\n",
        "    ax.set_title(f'stem & leaf plot of {i}')\n",
        "    plt.figure()"
      ]
    },
    {
      "cell_type": "markdown",
      "source": [
        "#Distribution analysis"
      ],
      "metadata": {
        "id": "wUKdd5XdRcAl"
      },
      "id": "wUKdd5XdRcAl"
    },
    {
      "cell_type": "code",
      "execution_count": null,
      "id": "b541292d",
      "metadata": {
        "id": "b541292d"
      },
      "outputs": [],
      "source": [
        "from scipy import stats\n",
        "import statsmodels.graphics.gofplots as sm\n",
        "#plt.figure(figsize=(6, 4))\n",
        "for i in parameters:\n",
        "  fig, ax = plt.subplots(1, 3, figsize=(15, 5))\n",
        "  fig.subplots_adjust(hspace=0.8, wspace=.3)\n",
        "  a=sm.ProbPlot(df[i],fit=True,dist=stats.norm,).ppplot(line='45',ax=ax[0])\n",
        "  ax[0].set_title(f'PP plot -assumed dist(normal)')\n",
        "\n",
        "  b=sm.ProbPlot(df[i],fit=True,dist=stats.norm).qqplot(line='45',ax=ax[1])\n",
        "  ax[1].set_title(f'QQ plot- assumed dist(normal)')\n",
        "  sns.kdeplot(df[i],ax=ax[2])\n",
        "  ax[2].set_title(f'Density plot {i}- assumed dist(normal)')\n",
        "  plt.show()\n",
        "  plt.tight_layout()"
      ]
    },
    {
      "cell_type": "code",
      "source": [
        "from scipy import stats\n",
        "import statsmodels.graphics.gofplots as sm\n",
        "\n",
        "for i in parameters:\n",
        "  xt,_ = stats.boxcox(df.loc[df[i]>0][i])\n",
        "  fig, ax = plt.subplots(1, 3, figsize=(15, 5))\n",
        "  fig.subplots_adjust(hspace=0.8, wspace=.3)\n",
        "  a=sm.ProbPlot(xt,fit=True,dist=stats.norm,).ppplot(line='45',ax=ax[0])\n",
        "  ax[0].set_title(f'PP plot -assumed dist(lognormal)')\n",
        "\n",
        "  b=sm.ProbPlot(xt,fit=True,dist=stats.norm).qqplot(line='45',ax=ax[1])\n",
        "  ax[1].set_title(f'QQ plot- assumed dist(lognormal)')\n",
        "\n",
        "  sns.kdeplot(xt,ax=ax[2])\n",
        "  ax[2].set_title(f'Density plot {i}- assumed dist(lognormal)')\n",
        "  plt.show()\n",
        "  plt.tight_layout()"
      ],
      "metadata": {
        "id": "wksQ1lRUhywf"
      },
      "id": "wksQ1lRUhywf",
      "execution_count": null,
      "outputs": []
    },
    {
      "cell_type": "code",
      "source": [
        "df"
      ],
      "metadata": {
        "id": "Czm42AWl1k7X"
      },
      "id": "Czm42AWl1k7X",
      "execution_count": null,
      "outputs": []
    },
    {
      "cell_type": "code",
      "source": [
        "df.keys()"
      ],
      "metadata": {
        "id": "p6tDrnV91nX5"
      },
      "id": "p6tDrnV91nX5",
      "execution_count": null,
      "outputs": []
    },
    {
      "cell_type": "code",
      "source": [
        "sns.pairplot(df)"
      ],
      "metadata": {
        "id": "HIC6CQb4ziVG"
      },
      "id": "HIC6CQb4ziVG",
      "execution_count": null,
      "outputs": []
    },
    {
      "cell_type": "code",
      "source": [
        "sns.heatmap(df.corr(),annot = True)"
      ],
      "metadata": {
        "id": "cVfTqC5IzoYY"
      },
      "id": "cVfTqC5IzoYY",
      "execution_count": null,
      "outputs": []
    },
    {
      "cell_type": "markdown",
      "source": [
        "#linear regression"
      ],
      "metadata": {
        "id": "T0vqUpdtQrBV"
      },
      "id": "T0vqUpdtQrBV"
    },
    {
      "cell_type": "code",
      "source": [
        "import pandas as pd\n",
        "import matplotlib.pyplot as plt\n",
        "from statsmodels.formula.api import ols\n",
        "from statsmodels.stats.anova import anova_lm"
      ],
      "metadata": {
        "id": "faI5TO2Ez3mv"
      },
      "id": "faI5TO2Ez3mv",
      "execution_count": null,
      "outputs": []
    },
    {
      "cell_type": "code",
      "source": [
        "df.keys()"
      ],
      "metadata": {
        "id": "Bvz4uzsO4lg3"
      },
      "id": "Bvz4uzsO4lg3",
      "execution_count": null,
      "outputs": []
    },
    {
      "cell_type": "markdown",
      "source": [
        "#simple linear regression"
      ],
      "metadata": {
        "id": "kQkcQN58QwEl"
      },
      "id": "kQkcQN58QwEl"
    },
    {
      "cell_type": "code",
      "source": [
        "features = ['Time(s)', 'Extension(mm)', 'Load(N)', 'Compressive extension(mm)',\n",
        "       'Compressive strain (Extension)(mm/mm)']"
      ],
      "metadata": {
        "id": "xs8rEClNKiPr"
      },
      "id": "xs8rEClNKiPr",
      "execution_count": null,
      "outputs": []
    },
    {
      "cell_type": "code",
      "source": [
        "from sklearn.linear_model import LinearRegression\n",
        "lr=LinearRegression()\n",
        "\n",
        "x = df[features]\n",
        "y=df['Compressive stress(MPa)']\n",
        "for i in features:\n",
        "  x=df[i]\n",
        "  # add a constant term to the features\n",
        "  x= sm.add_constant(x)\n",
        "  model = sm.OLS(y, x).fit()\n",
        "  print(model.summary())"
      ],
      "metadata": {
        "id": "1NWZdhX81eW3"
      },
      "id": "1NWZdhX81eW3",
      "execution_count": null,
      "outputs": []
    },
    {
      "cell_type": "markdown",
      "source": [
        "#Regression plot between Target & independent variable."
      ],
      "metadata": {
        "id": "TUp-Hd-uQ65M"
      },
      "id": "TUp-Hd-uQ65M"
    },
    {
      "cell_type": "code",
      "source": [
        "for i in features:\n",
        "  sns.regplot(x=i, y='Compressive stress(MPa)', data=df)\n",
        "  plt.title(f'Regression plot between {i} and Compressive stress(MPa)')\n",
        "  lr.fit(df[i].values.reshape(-1, 1),df['Compressive stress(MPa)'].values.reshape(-1, 1))\n",
        "  print(f'y={lr.intercept_[0]:.2f}+{lr.coef_[0][0]:.2f}x')\n",
        "  plt.show()"
      ],
      "metadata": {
        "id": "uGSw4I7_NYmc"
      },
      "id": "uGSw4I7_NYmc",
      "execution_count": null,
      "outputs": []
    },
    {
      "cell_type": "markdown",
      "source": [
        "#Multiple Linear ergression"
      ],
      "metadata": {
        "id": "pG0607dJtehH"
      },
      "id": "pG0607dJtehH"
    },
    {
      "cell_type": "code",
      "source": [
        "df.keys()"
      ],
      "metadata": {
        "id": "3ZTY_az657gH"
      },
      "id": "3ZTY_az657gH",
      "execution_count": null,
      "outputs": []
    },
    {
      "cell_type": "code",
      "source": [
        "df = df.rename(columns={'Time(s)':'Time',\n",
        "                        'Extension(mm)':'extension',\n",
        "                        'Load(N)': 'Load',\n",
        "                        'Compressive extension(mm)': 'compextension',\n",
        "                        'Compressive strain (Extension)(mm/mm)': 'compstrain',\n",
        "                        'Compressive stress(MPa)': 'comp_stress',\n",
        "                        })"
      ],
      "metadata": {
        "id": "PDLefyhq6gff"
      },
      "id": "PDLefyhq6gff",
      "execution_count": null,
      "outputs": []
    },
    {
      "cell_type": "code",
      "source": [
        "df.head()"
      ],
      "metadata": {
        "id": "8V6ZgkA781aZ"
      },
      "id": "8V6ZgkA781aZ",
      "execution_count": null,
      "outputs": []
    },
    {
      "cell_type": "code",
      "source": [
        " model = ols(formula='comp_stress~Time+extension+Load+compextension+compstrain',data = df).fit()\n",
        " model.summary()"
      ],
      "metadata": {
        "id": "0wVcjsLV03GP"
      },
      "id": "0wVcjsLV03GP",
      "execution_count": null,
      "outputs": []
    },
    {
      "cell_type": "markdown",
      "source": [
        "# hypothesis testing"
      ],
      "metadata": {
        "id": "p86-9V3PRFi7"
      },
      "id": "p86-9V3PRFi7"
    },
    {
      "cell_type": "code",
      "source": [
        "features = df.keys()"
      ],
      "metadata": {
        "id": "3-Y2AI4v-b-Q"
      },
      "id": "3-Y2AI4v-b-Q",
      "execution_count": null,
      "outputs": []
    },
    {
      "cell_type": "code",
      "source": [
        "from scipy.stats import ttest_1samp\n",
        "\n",
        "# Set significance level\n",
        "alpha = 0.05\n",
        "# Create an empty dataframe to store the t-test results\n",
        "results = pd.DataFrame(columns=['Column', 'Population mean','Sample mean','Sample_std_dev','t-value','p-value','result'])\n",
        "\n",
        "# Perform hypothesis testing for each column\n",
        "for col in features:\n",
        "  # Take 8 random samples of size 100 from the column\n",
        "  pop_mean=df[col].mean()\n",
        "  mysample=df[col].sample(n=100)\n",
        "  sample_mean = np.mean(mysample)\n",
        "  # Calculate the sample standard deviation\n",
        "  sample_std = np.std(mysample, ddof=1)\n",
        "  # Calculate the t-value and p-value using one-sample t-test\n",
        "  t_value, p_value = ttest_1samp(mysample, popmean=df[col].mean())\n",
        "\n",
        "  # Determine if the null hypothesis is rejected based on the p-value\n",
        "  if p_value < alpha:\n",
        "    result = 'rejected'\n",
        "  else:\n",
        "    result = 'not rejected'\n",
        "  # Add the t-test results to the dataframe\n",
        "  results = results.append({'Column': col, 'Population mean': pop_mean,'Sample mean': sample_mean,'Sample_std_dev':\n",
        "                            sample_std ,'t-value': t_value ,'p-value': p_value,'result': result},ignore_index= True)"
      ],
      "metadata": {
        "id": "YfSZkNnCYjzj"
      },
      "id": "YfSZkNnCYjzj",
      "execution_count": null,
      "outputs": []
    },
    {
      "cell_type": "code",
      "source": [
        "results"
      ],
      "metadata": {
        "id": "5Hqwnuhhb6Lo"
      },
      "id": "5Hqwnuhhb6Lo",
      "execution_count": null,
      "outputs": []
    },
    {
      "cell_type": "code",
      "source": [],
      "metadata": {
        "id": "rjX7G_EIhjn5"
      },
      "id": "rjX7G_EIhjn5",
      "execution_count": null,
      "outputs": []
    }
  ],
  "metadata": {
    "kernelspec": {
      "display_name": "Python 3 (ipykernel)",
      "language": "python",
      "name": "python3"
    },
    "language_info": {
      "codemirror_mode": {
        "name": "ipython",
        "version": 3
      },
      "file_extension": ".py",
      "mimetype": "text/x-python",
      "name": "python",
      "nbconvert_exporter": "python",
      "pygments_lexer": "ipython3",
      "version": "3.9.12"
    },
    "colab": {
      "provenance": [],
      "toc_visible": true
    }
  },
  "nbformat": 4,
  "nbformat_minor": 5
}